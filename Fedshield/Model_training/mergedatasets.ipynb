{
 "cells": [
  {
   "cell_type": "code",
   "execution_count": null,
   "id": "208ac2f8",
   "metadata": {},
   "outputs": [],
   "source": [
    "import os\n",
    "import pandas as pd\n",
    "\n",
    "data_dir = r\"D:\\FedShield,Personal\\wataiData\\csv\\CICIoT2023\"\n",
    "output_file = r\"D:\\FedShield,Personal\\wataiData\\csv\\CICIoT2023\\full_dataset.csv\"\n",
    "\n",
    "X_columns = [\n",
    "    'flow_duration', 'Header_Length', 'Protocol Type', 'Duration',\n",
    "    'Rate', 'Srate', 'Drate', 'fin_flag_number', 'syn_flag_number',\n",
    "    'rst_flag_number', 'psh_flag_number', 'ack_flag_number',\n",
    "    'ece_flag_number', 'cwr_flag_number', 'ack_count',\n",
    "    'syn_count', 'fin_count', 'urg_count', 'rst_count', \n",
    "    'HTTP', 'HTTPS', 'DNS', 'Telnet', 'SMTP', 'SSH', 'IRC', 'TCP',\n",
    "    'UDP', 'DHCP', 'ARP', 'ICMP', 'IPv', 'LLC', 'Tot sum', 'Min',\n",
    "    'Max', 'AVG', 'Std', 'Tot size', 'IAT', 'Number', 'Magnitue',\n",
    "    'Radius', 'Covariance', 'Variance', 'Weight', \n",
    "]\n",
    "y_column = 'label'\n",
    "cols_to_use = X_columns + [y_column]\n",
    "\n",
    "files = [f for f in os.listdir(data_dir) if f.endswith('.csv')]\n",
    "\n",
    "first = True\n",
    "chunk_size = 50000  # you can adjust this based on your RAM\n",
    "\n",
    "for file in files:\n",
    "    file_path = os.path.join(data_dir, file)\n",
    "    print(f\"Processing {file_path} ...\")\n",
    "    \n",
    "    try:\n",
    "        for chunk in pd.read_csv(file_path, usecols=cols_to_use, chunksize=chunk_size):\n",
    "            if first:\n",
    "                chunk.to_csv(output_file, index=False, mode='w')\n",
    "                first = False\n",
    "            else:\n",
    "                chunk.to_csv(output_file, index=False, mode='a', header=False)\n",
    "    except Exception as e:\n",
    "        print(f\"Skipping {file} due to error: {e}\")\n",
    "\n",
    "print(\"✅ All CSV files merged into full_dataset.csv\")\n"
   ]
  }
 ],
 "metadata": {
  "language_info": {
   "name": "python"
  }
 },
 "nbformat": 4,
 "nbformat_minor": 5
}
